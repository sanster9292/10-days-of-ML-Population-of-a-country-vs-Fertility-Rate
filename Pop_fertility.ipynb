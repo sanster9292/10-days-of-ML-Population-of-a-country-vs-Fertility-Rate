{
  "cells": [
    {
      "metadata": {
        "_uuid": "8f2839f25d086af736a60e9eeb907d3b93b6e0e5",
        "_cell_guid": "b1076dfc-b9ad-4769-8c92-a6c4dae69d19",
        "trusted": true,
        "collapsed": true
      },
      "cell_type": "code",
      "source": "\nimport numpy as np # linear algebra\nimport pandas as pd # data processing, CSV file I/O (e.g. pd.read_csv)\nimport os\nimport matplotlib.pyplot as plt\n\nprint(os.listdir(\"../input\"))\n\n# Any results you write to the current directory are saved as output.",
      "execution_count": null,
      "outputs": []
    },
    {
      "metadata": {
        "_uuid": "6462bd70ed1e5fe8de2d606ebe37c0ba8f8cc64d"
      },
      "cell_type": "markdown",
      "source": "# Let's import all data "
    },
    {
      "metadata": {
        "_uuid": "a432676abace05fd1a56e54f10de3e0e13831243"
      },
      "cell_type": "markdown",
      "source": "The shape of the population dataframe is (264,61). It shows the population for each country from 1960 to 2016"
    },
    {
      "metadata": {
        "_cell_guid": "79c7e3d0-c299-4dcb-8224-4455121ee9b0",
        "_uuid": "d629ff2d2480ee46fbb7e2d37f6b5fab8052498a",
        "trusted": true,
        "scrolled": true,
        "collapsed": true
      },
      "cell_type": "code",
      "source": "population = pd.read_csv('../input/country_population.csv')\nfertility = pd.read_csv('../input/fertility_rate.csv')\nlife = pd.read_csv('../input/life_expectancy.csv')\n",
      "execution_count": null,
      "outputs": []
    },
    {
      "metadata": {
        "_uuid": "a6c7d49678dda4be6a480c1f1fdee05a324f0ec2"
      },
      "cell_type": "markdown",
      "source": "## **Population**"
    },
    {
      "metadata": {
        "trusted": true,
        "_uuid": "6a2606aa001f2375652e14541a7b561dc1c38275",
        "collapsed": true
      },
      "cell_type": "code",
      "source": "temp_pop= population\ntemp_pop.drop(columns=['Country Name','Country Code', 'Indicator Name', 'Indicator Code'],axis =1, inplace=True)",
      "execution_count": null,
      "outputs": []
    },
    {
      "metadata": {
        "trusted": true,
        "_uuid": "851570d1908bab5234b5c5e8a001b1e58b939613",
        "scrolled": true,
        "collapsed": true
      },
      "cell_type": "code",
      "source": "pop_sum=temp_pop.sum()\npop_sum=pd.DataFrame(pop_sum).reset_index()\npop_sum.columns= ['Year','Total Population']\n# type(pop_sum)\npop_sum.head()\npop_sum.shape\n",
      "execution_count": null,
      "outputs": []
    },
    {
      "metadata": {
        "trusted": true,
        "scrolled": false,
        "_uuid": "8953619b58050dbdd934a6694c567f7848e5f5b1",
        "collapsed": true
      },
      "cell_type": "code",
      "source": "#  Stack overflow method \n\nplt.figure(figsize=(25,10))\nplt.plot(pop_sum['Year'], pop_sum['Total Population'])\nplt.title('Global Population from 1960 to 2016')\nplt.xticks(np.arange(1960,2017))\n\nplt.show()\n",
      "execution_count": null,
      "outputs": []
    },
    {
      "metadata": {
        "_uuid": "3243519acda33cc18b8853b9f5f198bcda79ff8b"
      },
      "cell_type": "markdown",
      "source": "**The above graph shows the increase of the total population as the years are going by . The x axis is supposed to go from 1960 to 2016. Right now it starts at 0 which is representing 1960 and goes upto 2016 representing 50 something. I will work on reseting this axes tomorrow**"
    },
    {
      "metadata": {
        "_uuid": "af81b0df2a736c1ad98cc6554b32614c7a3fd521"
      },
      "cell_type": "markdown",
      "source": "## Let's do likewise for fertility "
    },
    {
      "metadata": {
        "trusted": true,
        "scrolled": true,
        "_uuid": "b5ce0dff386e01012dffa0729ca113bcf2a1522f",
        "collapsed": true
      },
      "cell_type": "code",
      "source": "temp_fert= fertility\ntemp_fert.head()\ntemp_fert.drop(['Country Name','Country Code','Indicator Name', 'Indicator Code'],axis =1, inplace = True)\nnew_fert =temp_fert.dropna()",
      "execution_count": null,
      "outputs": []
    },
    {
      "metadata": {
        "trusted": true,
        "_uuid": "3e3fc62a3a2dbbd1de9a853fd59d3990879ef07a",
        "collapsed": true
      },
      "cell_type": "code",
      "source": "# new_fert.isnull().values.any() # no empty values \nnew_fert.head()",
      "execution_count": null,
      "outputs": []
    },
    {
      "metadata": {
        "trusted": true,
        "scrolled": true,
        "_uuid": "5caa2ee803beb6f91d6319b3a049f67e6073e8b4",
        "collapsed": true
      },
      "cell_type": "code",
      "source": "fert_sum = new_fert.mean()\nfert_sum = pd.DataFrame(fert_sum).reset_index()\nfert_sum.columns=['Year', 'Fertility']\nfert_sum.describe()",
      "execution_count": null,
      "outputs": []
    },
    {
      "metadata": {
        "trusted": true,
        "_uuid": "b33db090e5eb3fa5e4cac0d017596c205c14b641",
        "scrolled": true,
        "collapsed": true
      },
      "cell_type": "code",
      "source": "# fert_sum.plot()\nplt.figure(figsize=(25,10))\nplt.plot(fert_sum['Year'], fert_sum['Fertility'])\nplt.xticks(np.arange(1960,2017))\nplt.title('Fertility from 1960 to 2016')\nplt.show()\n",
      "execution_count": null,
      "outputs": []
    },
    {
      "metadata": {
        "_uuid": "ab64878f568a34cf28dc131b5eec8ce001d8c303"
      },
      "cell_type": "markdown",
      "source": "**The above graph shows that over the 50 something years, the  mean fertility rate across the world has fallen, pretty drastically to almost half of it was in the 1960 and a little after that **\n"
    },
    {
      "metadata": {
        "_uuid": "646ca4e875c55d7baedb4eec41dcac02837da1c7"
      },
      "cell_type": "markdown",
      "source": "**Life Expectancy**"
    },
    {
      "metadata": {
        "trusted": true,
        "scrolled": true,
        "_uuid": "896868273238a0e1547168f964e1dda79547b676",
        "collapsed": true
      },
      "cell_type": "code",
      "source": "df_life = life\n# df_life.head()\ndf_life.drop(['Country Name','Country Code','Indicator Name', 'Indicator Code'],axis =1, inplace = True)\nnew_life = df_life.dropna()\nnew_life.head()\n",
      "execution_count": null,
      "outputs": []
    },
    {
      "metadata": {
        "trusted": true,
        "scrolled": false,
        "_uuid": "594d5003776d336c641fc00f76d0a545967084ec",
        "collapsed": true
      },
      "cell_type": "code",
      "source": "new_life.isnull().values.any()# no empty values \nlife_mean =  new_life.mean()\nlife_mean = pd.DataFrame(life_mean).reset_index()\nlife_mean.columns= ['Year', 'Life expectancy']\n# life_mean.plot()\nlife_mean.head()",
      "execution_count": null,
      "outputs": []
    },
    {
      "metadata": {
        "trusted": true,
        "_uuid": "ce27a6721c44d674ea37132ad8fe0342eaaaf467",
        "collapsed": true
      },
      "cell_type": "code",
      "source": "plt.figure(figsize=(25,10))\nplt.plot(life_mean['Year'], life_mean['Life expectancy'])\nplt.xticks(np.arange(1960,2017))\nplt.title('Life Expectancy from 1960 to 2016')\nplt.show()\n",
      "execution_count": null,
      "outputs": []
    },
    {
      "metadata": {
        "_uuid": "134a3e158e8940a71974e8a4db7be8f7a45135b8"
      },
      "cell_type": "markdown",
      "source": "**The above graph shows that there is an increase in the mean life expectancy across the world in the last 50 or so years. The life expectancy has gone up by almost 20 years. **"
    },
    {
      "metadata": {
        "_uuid": "3e9cb24a362a8d3995b2726dad01a407b588abff"
      },
      "cell_type": "markdown",
      "source": "## Formalize EDA\n*Don't really need to worry about this. This was an excercise of just formalizing the process. If you did the earlier steps, then this following code cell is redundant *\n"
    },
    {
      "metadata": {
        "trusted": true,
        "scrolled": true,
        "_uuid": "312f062ffc56c1609b6fd4d9609d1dd3f1d23b14",
        "collapsed": true
      },
      "cell_type": "code",
      "source": "def make_df(df,value_name):\n    \n    # First off, I will drop the useless columns \n    df.drop(['Country Name','Country Code','Indicator Name', 'Indicator Code'],axis =1, inplace = True)\n    \n    df.dropna()\n    \n#     while df.isnunll().values.isany()== True:\n#           df.dropna()\n#     else:\n#           continue\n        \n    if value_name == 'Population':\n        df_stat =df.sum()\n    else:\n        df_stat =df.mean()\n    \n    df = pd.DataFrame(df_stat).reset_index()\n    \n    if 'Population' in value_name:\n        df.columns= ['Year', 'Population']\n    elif 'Fertility' in value_name:\n        df.columns = ['Year', 'Fertility']\n    else:\n        df.columns = ['Year', 'Life Expectancy']\n    \n    return df\n    \n    ",
      "execution_count": null,
      "outputs": []
    },
    {
      "metadata": {
        "_uuid": "ea562f8b1cd42c83cfb29567ba876eeb1652f27a"
      },
      "cell_type": "markdown",
      "source": "## This following cell is to make sure that the formalized EDA works and it does!!!"
    },
    {
      "metadata": {
        "trusted": true,
        "_uuid": "72ad6f9123ae82e128d60221e137092515f35105",
        "collapsed": true
      },
      "cell_type": "code",
      "source": "population = pd.read_csv('../input/country_population.csv')\npop_df = make_df(population, 'Population')\npop_df.plot()\n# pop_df.head()\n",
      "execution_count": null,
      "outputs": []
    },
    {
      "metadata": {
        "_uuid": "d1e202817ecb56c2ed6e6861aec241aac884cfe2"
      },
      "cell_type": "markdown",
      "source": "**Fertility dataFrame**"
    },
    {
      "metadata": {
        "trusted": true,
        "_uuid": "bb3557acad9d5633162bc63107926ddf302a3e7d",
        "collapsed": true
      },
      "cell_type": "code",
      "source": "fert_sum.describe()\n",
      "execution_count": null,
      "outputs": []
    },
    {
      "metadata": {
        "_uuid": "4eb8cd7126056fe8ed063565107057af0c79b6fd"
      },
      "cell_type": "markdown",
      "source": "**DataFrame containing the mean of life expectancy**"
    },
    {
      "metadata": {
        "trusted": true,
        "_uuid": "de3f6c56c61c473c86f979bd8a6668b7400aab8e",
        "collapsed": true
      },
      "cell_type": "code",
      "source": "life_mean.describe()\n",
      "execution_count": null,
      "outputs": []
    },
    {
      "metadata": {
        "_uuid": "597c5d3c30d8bce0d70354dd54db066639ec8f95"
      },
      "cell_type": "markdown",
      "source": "**Data Frame containig the sum of population in the world in that year** "
    },
    {
      "metadata": {
        "trusted": true,
        "_uuid": "891acf75e7936c69ccc80b658d205f91d19a9123",
        "collapsed": true
      },
      "cell_type": "code",
      "source": "pop_sum.describe()",
      "execution_count": null,
      "outputs": []
    },
    {
      "metadata": {
        "_uuid": "798a77da7619880d19a10585942cb40b1b2117dd"
      },
      "cell_type": "markdown",
      "source": "# Let's create a new dataFrame containing the data for life expectancy, total population and fertility rate in each year "
    },
    {
      "metadata": {
        "trusted": true,
        "scrolled": false,
        "_uuid": "b06492c1a528bfeb196f5d4e4e742932caf65e11",
        "collapsed": true
      },
      "cell_type": "code",
      "source": "# BUILD A MASSIVE DATA FRAME CONTAING THE DATA FOR ALL THREE CRITERIA\n# world_data = pd.merge(pd.merge(pop_sum, life_mean, on='Year'), fert_sum, on='Year')\ntest = pd.merge(pop_sum,life_mean, on='Year')\nworld_data = pd.merge(test, fert_sum, on='Year')\nworld_data.columns\n",
      "execution_count": null,
      "outputs": []
    },
    {
      "metadata": {
        "_uuid": "74a266c611d3405f692c0fcf4c46d754f039d1e7"
      },
      "cell_type": "markdown",
      "source": "**The columns are too far apart in numbering. The population is in millions and fertility is in single digits with decimals.**\n\n\n**So let's scale them. **"
    },
    {
      "metadata": {
        "trusted": true,
        "_uuid": "b48bdbd9df4cc5ae494206d6bfc09df4ea4b7bb8",
        "collapsed": true
      },
      "cell_type": "code",
      "source": "from sklearn.preprocessing import MinMaxScaler\nscaler = MinMaxScaler()\nworld_data[['Total Population', 'Life expectancy', 'Fertility']] = scaler.fit_transform(world_data[['Total Population', 'Life expectancy', 'Fertility']])\nworld_data.head()",
      "execution_count": null,
      "outputs": []
    },
    {
      "metadata": {
        "_uuid": "6d0249876477d6b9d120a146aa62b8deaf11e906"
      },
      "cell_type": "markdown",
      "source": "**Let's plot the massive dataFrame **"
    },
    {
      "metadata": {
        "trusted": true,
        "_uuid": "30a86b028668cf073e82d2b044659f93251bc66d",
        "collapsed": true
      },
      "cell_type": "code",
      "source": "# world_data.plot(x=\"Year\", y=[\"Total Population\",\"Life expectancy\",\"Fertility\"], figsize = (10,10) )",
      "execution_count": null,
      "outputs": []
    },
    {
      "metadata": {
        "_uuid": "4681e0eadc76ecaccb8b81ddc6096f02f17944b7"
      },
      "cell_type": "markdown",
      "source": "# So obviously the most interesting thing here is that The Total population is increasing from 1960 to 2016 consistently. However, the fertility rate is decreasing consistently at the same time.\n\n## <font color='red'> So the question I will be tackling will be see how the world population is still increasing while fertility is so clearly decreasing </font>"
    },
    {
      "metadata": {
        "trusted": true,
        "collapsed": true,
        "_uuid": "65bc523209f40dc81c643353d941fb7a61a4e6c8"
      },
      "cell_type": "code",
      "source": "population = pd.read_csv('../input/country_population.csv')\nfertility = pd.read_csv('../input/fertility_rate.csv')\nlife = pd.read_csv('../input/life_expectancy.csv')\n    ",
      "execution_count": null,
      "outputs": []
    },
    {
      "metadata": {
        "trusted": true,
        "scrolled": false,
        "_uuid": "6f2c93a2b551d5103a94371cae9928cc3ba37f64",
        "collapsed": true
      },
      "cell_type": "code",
      "source": "population = pd.read_csv('../input/country_population.csv')\npopulation.head()\npop_year = population.drop(['Country Code','Indicator Name', 'Indicator Code'],axis=1)\npop_year= pop_year.T\n# population.head()\npop_year.head()\n\npop_year.shape\n# pop_year.isnull().values.any()\nt = pop_year.isnull().apply(sum, axis=0)\nt\n\n# for col in pop_year:\n#     if t:\n#         pop_year.fillna(pop_year.mean())\n\npop_year = pop_year.fillna(pop_year.mean())        \n# pop_year.isnull().values.any() # The answer is false\npop_year.shape\n# pop_year",
      "execution_count": null,
      "outputs": []
    },
    {
      "metadata": {
        "trusted": true,
        "_uuid": "cd54734f841e3ee0156981c8dad786e87bb07e0f",
        "scrolled": false,
        "collapsed": true
      },
      "cell_type": "code",
      "source": "print(fertility.T.shape[1]-fert_year.shape[1],'countries have been dropped from the dataset because there were atleast 40 or more missing NaN values')",
      "execution_count": null,
      "outputs": []
    },
    {
      "metadata": {
        "_uuid": "e539eaef7a14f993e4a01f1ce6cdf82ca27794ff"
      },
      "cell_type": "markdown",
      "source": "## <font color ='purple'>The following code cell was interesting to clean up. There were abotu 5 to 7 countries that had over 50 entries in each column that were missing. Since the data spans for only 56 years, any country that had more than410 missing values I dropped, them and any other column with less than 40 missing values, I replace the missing values of that column with the mean of the remaining values in that columns. As a result of this, I had 20 columns or countries are removed from the fertility dataframe.  </font>"
    },
    {
      "metadata": {
        "trusted": true,
        "scrolled": true,
        "_uuid": "ba73de713592da1cb868201ecb58e6829751d842",
        "collapsed": true
      },
      "cell_type": "code",
      "source": "fertility = pd.read_csv('../input/fertility_rate.csv')\n\nfertility=fertility.drop(['Country Code','Indicator Name', 'Indicator Code'],axis=1)\nfert_year = fertility\n# # fert_year.reset_index()\n# t = fert_year.isnull().apply(sum, axis=0)\n# t\n\n# for col in fert_year:\n#     if t[col]>=40:\n#         del fert_year[col]\n# #         fert_year.fillna(fert_year[col].mean)\n#     else:\n#         fert_year.fillna(fert_year[col].mean)\n        \nfert_year= fert_year.dropna()\nfert_year\n\n",
      "execution_count": null,
      "outputs": []
    },
    {
      "metadata": {
        "trusted": true,
        "scrolled": true,
        "_uuid": "96d6fa4d908959d333e305813449e3c1baa1e7c7",
        "collapsed": true
      },
      "cell_type": "code",
      "source": "fert_temp = fert_year\n\nfert_temp= fert_temp.dropna()\n# fert_temp=fert_temp.drop('mean of year', axis =1)\nfert_temp\n",
      "execution_count": null,
      "outputs": []
    },
    {
      "metadata": {
        "trusted": true,
        "scrolled": true,
        "_uuid": "a70fb6a11e0613a178470ef0a6903f1e09051894",
        "collapsed": true
      },
      "cell_type": "code",
      "source": "country_names = pd.DataFrame(fert_temp['Country Name'])\ncountry_names\nfert_ignore =pd.DataFrame(fert_temp.iloc[:,:]) #Ignores the names of the country\n# fert_ignore.columns = range(fert_ignore.shape[1])\nfert_ignore\nif 'mean of year' in fert_ignore.columns:\n    fert_ignore =fert_ignore.drop('mean of year',axis =1)\nfert_ignore.T\nfert_mean = fert_ignore.mean(axis =0)\ntype(fert_mean)\nfert_mean\n# print(fert_mean.shape)\n# print(fert_ignore.T.shape)\n# # #Need to add the mean column to DataFrame as well. I will add it at the very begining\nidx= 0\nfert_add = fert_ignore.T\nfert_add.insert(loc=idx, column='mean of year', value=fert_mean)\nfert_add.columns[0]\n# fert_add.columns[1:] #= np.arange(1960,2017)\nfert_add = fert_add.T\n# len(fert_add.T.columns)\n# pd.DataFrame(fert_add['1960']).reset_index().drop('index',axis =1)\n# column_interest= fert_add.columns[41:]\nfert_add.iloc[1]",
      "execution_count": null,
      "outputs": []
    },
    {
      "metadata": {
        "_uuid": "6f6e2daba12552b770de79b5b1630142435d8ab5"
      },
      "cell_type": "markdown",
      "source": "## <font color=Green>We are now going to seperate the columns where the fertility value if greater than the mean fertility value across the globe for that year. I am taking the years 2000 and onwars because y2k and what not . Any country with higher than 3.0 fertility rate stays </font>"
    },
    {
      "metadata": {
        "trusted": true,
        "scrolled": true,
        "_uuid": "67c6f2451ac535851e2f2b1061e0fd6a0603274d",
        "collapsed": true
      },
      "cell_type": "code",
      "source": "column_drop = fert_add.columns[1:41] #1960 to 1999\ncolumn_interest= fert_add.columns[41:] #2000 to 2016\nmil_fert = fert_add.drop(column_drop,axis=1) #fertility data since 2000\n\nmil_fert.iloc[:,1:]#.mean().mean()\nmil_filter = mil_fert[mil_fert[column_interest]>= 3.0]\n# mil_temp = mil_filter[]\ncount_try= mil_filter.drop('Country Name', axis=1).dropna()\ncount_try\n",
      "execution_count": null,
      "outputs": []
    },
    {
      "metadata": {
        "_uuid": "3c49084e67e3413a5495fdcccac362bc241f9016"
      },
      "cell_type": "markdown",
      "source": "<font color=purple> **The above  cell shows that there are 72 countries that have a higher than mean/average fertility rate from 2000 to 2016.  72 is too many, so i will try to limit it down even more**</font>"
    },
    {
      "metadata": {
        "trusted": true,
        "_uuid": "39835d3a2a8a3f229bea905f0430b9791f12508a",
        "collapsed": true
      },
      "cell_type": "code",
      "source": "more_filter = count_try[count_try[column_interest]>=5.0]\nmore_filter= more_filter.dropna()\nmore_filter",
      "execution_count": null,
      "outputs": []
    },
    {
      "metadata": {
        "_uuid": "7f9a7fafc349f5e8f7601d1cdb7e9315395a9304"
      },
      "cell_type": "markdown",
      "source": "<font color = green>**Okay so by increasing the threshold of fertility rate to 5.0, we have dropped the countries from 72 to 15. let's see if we can limit it down to less than 10 **</font>"
    },
    {
      "metadata": {
        "trusted": true,
        "_uuid": "977eebaf1ed09494a9efdec6c42cfd242b8a8f88",
        "collapsed": true
      },
      "cell_type": "code",
      "source": "filter_six = more_filter[more_filter[column_interest]>=5.5]\nfilter_six = filter_six.dropna()\nfilter_six",
      "execution_count": null,
      "outputs": []
    },
    {
      "metadata": {
        "_uuid": "4b7f27c924506c0d36a5debc097892753399b941"
      },
      "cell_type": "markdown",
      "source": "## <font color =green >******Okay, so now we are talking. That is ten countries who had higher than 5.5 fertility rate from 2000 to 2016 when the mean for all the countries in the same period was around 3.0. The fertility rate for these 10 countries was almost twice the global rate. **</font>"
    },
    {
      "metadata": {
        "_uuid": "9ed05d5c402594a49e1d44d8ac82074ded42a595"
      },
      "cell_type": "markdown",
      "source": "<font color = Purple>**Now we are going to put the names of those countries back into the above data frame **</font>"
    },
    {
      "metadata": {
        "trusted": true,
        "_uuid": "cf7bd9d2f199340c267595f0e05e99b2039669d4",
        "collapsed": true
      },
      "cell_type": "code",
      "source": "country_indices=filter_six.index.values\ncountry_indices\ntype(country_indices)\n",
      "execution_count": null,
      "outputs": []
    },
    {
      "metadata": {
        "trusted": true,
        "scrolled": false,
        "_uuid": "0a84a35246159bfde1bf1cb478d29561bded7f96",
        "collapsed": true
      },
      "cell_type": "code",
      "source": "insert_names = country_names[country_names.index.isin(country_indices)]\ninsert_names['Country Name']\n",
      "execution_count": null,
      "outputs": []
    },
    {
      "metadata": {
        "trusted": true,
        "scrolled": true,
        "_uuid": "e8ce85829d4d57b7ccf8cc7f2242502d067f065d",
        "collapsed": true
      },
      "cell_type": "code",
      "source": "idx= 0\ncountry_fert = filter_six\ncountry_fert.insert(loc=idx, column='Country Name', value=insert_names)\ncountry_fert\n# fert_add.columns[0]",
      "execution_count": null,
      "outputs": []
    },
    {
      "metadata": {
        "_uuid": "0f065fc30767f302fdc8ffa758c1c7c7bc4154ab"
      },
      "cell_type": "markdown",
      "source": "## <font color=red>The above data Frame show the 10 countries with the highest fertility rate in the world from the year 2010 to 2016.   </font> "
    },
    {
      "metadata": {
        "trusted": true,
        "scrolled": true,
        "_uuid": "8ee8afb69530fd98629d62523471c274cd4e5581",
        "collapsed": true
      },
      "cell_type": "code",
      "source": "country_fert.plot(figsize= (10,10), title= '10 countries with highest fertility rate 2000-2016')",
      "execution_count": null,
      "outputs": []
    },
    {
      "metadata": {
        "_uuid": "c2615663a09fb5697e7a1cfe5e8885726c32c11e"
      },
      "cell_type": "markdown",
      "source": "## Let's compare it to the graph of the world fertility in the same time\n"
    },
    {
      "metadata": {
        "trusted": true,
        "_uuid": "b1e44c34ddd65ea3ee5a4ebb194e0b757e61c353",
        "collapsed": true
      },
      "cell_type": "code",
      "source": "fertility[column_interest].dropna().plot(kind='line',figsize=(10,10), title = 'World fertility 2000-2016')",
      "execution_count": null,
      "outputs": []
    },
    {
      "metadata": {
        "_uuid": "96dc855aa1a9e56b62aa0a4462eaeea637c18c62"
      },
      "cell_type": "markdown",
      "source": "## If we compare the fertility graphs for the 10 countries we selected compare it the general graph for the rest of the world in 2000 to 2016 frame, we can see that our data for the top 10 countries explains the max peaks for the world. \n## Now, lets plot the graphs of populations for the 10 countries vs the rest of the world\n"
    },
    {
      "metadata": {
        "trusted": true,
        "_uuid": "769f3c9a26dc80a8319b272aa75d7a9e6aec674a",
        "collapsed": true
      },
      "cell_type": "code",
      "source": "population[column_interest].plot(figsize=(10,10), title='World population 2000-2016')",
      "execution_count": null,
      "outputs": []
    },
    {
      "metadata": {
        "_uuid": "d50f53bad755ca0792ddabcf1333c5190b0a7558"
      },
      "cell_type": "markdown",
      "source": "## Now for the population of the top 10 most fertile countries in the world"
    },
    {
      "metadata": {
        "trusted": true,
        "_uuid": "697e7fb5101ffef976010dee71a2824454362cfb",
        "collapsed": true
      },
      "cell_type": "code",
      "source": "population = population = pd.read_csv('../input/country_population.csv')\npopulation= population.drop(['Country Code','Indicator Name','Indicator Code'], axis=1)\npopulation['2016'].sum()\nworld_16 = 78856789486.0\n\ncountry_pop= population[column_interest].iloc[country_indices]\ncountry_pop['2016'].sum()\nten_16= 414258372.0\ncountry_pop\n#population of the 10 countries in 2016 was 414258372.0\n\nidx= 0\ncountry_pop.insert(loc=idx, column='Country Name', value=insert_names)\ncountry_pop.plot(figsize= (10,10), title = 'population of 10 mos fertile countries')",
      "execution_count": null,
      "outputs": []
    },
    {
      "metadata": {
        "_uuid": "59c16810cfdfd258c1a42831ed11421b70f426f0"
      },
      "cell_type": "markdown",
      "source": "## The population of the top 10 most fertile countries in 2016 as a percentage of the world population in 2016"
    },
    {
      "metadata": {
        "trusted": true,
        "_uuid": "572cb24cffca99fb4bcb4a08d5f3a2706e24b3f7",
        "collapsed": true
      },
      "cell_type": "code",
      "source": "percent = np.multiply(np.divide(ten_16,world_16),100)\nprint('The top 10 most fertile countries in 2016, form ', percent,'%  of the world population in 2016')\n# percent ",
      "execution_count": null,
      "outputs": []
    },
    {
      "metadata": {
        "_uuid": "8eb12e3343b333c80ff95a27d9d9c60cd787f025"
      },
      "cell_type": "markdown",
      "source": "## **Top 10 most fertile countries in the world from the year 2000 to 2016 are listed in no particular order,**\n\n* Angola\n* Burundi\n* Congo, Dem. Rep.\n* Mali\n* Niger\n* Nigeria\n* Somalia\n* Chad\n* Timor-Leste\n* Uganda"
    },
    {
      "metadata": {
        "_uuid": "bfe326fbc23f543aec0d703287fd62293a33bc2c"
      },
      "cell_type": "markdown",
      "source": "# <font color= red>Confession time: I had an earlier pre-conceived notion that the most fertile countries would probably have a significant contrinution to the world population. However, after this exploratory analysis, they only form 0.525% of the world population in the year 2016</font>\n\n# <font color =purple>Another thing worth noticing, is that while the global trend is for the fertility rate is declining, there are pockets of countries, where the fertlity rates are 2 to almost 3 times that of the global mean fertility rate  </font>"
    }
  ],
  "metadata": {
    "kernelspec": {
      "display_name": "Python 3",
      "language": "python",
      "name": "python3"
    },
    "language_info": {
      "name": "python",
      "version": "3.6.6",
      "mimetype": "text/x-python",
      "codemirror_mode": {
        "name": "ipython",
        "version": 3
      },
      "pygments_lexer": "ipython3",
      "nbconvert_exporter": "python",
      "file_extension": ".py"
    }
  },
  "nbformat": 4,
  "nbformat_minor": 1
}